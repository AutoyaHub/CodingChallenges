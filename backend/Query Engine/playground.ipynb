{
 "cells": [
  {
   "attachments": {},
   "cell_type": "markdown",
   "metadata": {},
   "source": [
    "**Coding Challenge: Text Query Engine**\n",
    "\n",
    "The objective of this challenge is to build a Text Query Engine in Python.\n",
    "\n",
    "Your application will receive a series of text documents as a list of strings:\n",
    "\n",
    "```\n",
    "documents = [\n",
    "    \"The quick brown fox jumped over the lazy dog\",\n",
    "    \"A rose by any other name would smell as sweet\",\n",
    "    \"To be or not to be, that is the question\",\n",
    "    \"In the end, it's not the years in your life that count. It's the life in your years\",\n",
    "    \"You miss 100% of the shots you don't take\",\n",
    "]\n",
    "\n",
    "```\n",
    "\n",
    "And a list of queries:\n",
    "\n",
    "```\n",
    "queries = [\"quick brown\", \"rose name\", \"life years\", \"you miss\"]\n",
    "\n",
    "```\n",
    "\n",
    "The engine should:\n",
    "\n",
    "1. Take the list of documents and build an internal representation of the text.\n",
    "2. Take a list of query words.\n",
    "3. Return a list of lists. Each list corresponds to a query and contains the document IDs that match the query, sorted by their relevance to the query."
   ]
  }
 ],
 "metadata": {
  "kernelspec": {
   "display_name": "main",
   "language": "python",
   "name": "python3"
  },
  "language_info": {
   "codemirror_mode": {
    "name": "ipython",
    "version": 3
   },
   "file_extension": ".py",
   "mimetype": "text/x-python",
   "name": "python",
   "nbconvert_exporter": "python",
   "pygments_lexer": "ipython3",
   "version": "3.9.12"
  },
  "orig_nbformat": 4
 },
 "nbformat": 4,
 "nbformat_minor": 2
}
